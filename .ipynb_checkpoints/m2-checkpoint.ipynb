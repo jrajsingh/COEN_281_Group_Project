{
 "cells": [
  {
   "cell_type": "code",
   "execution_count": null,
   "metadata": {},
   "outputs": [],
   "source": [
    "import matplotlib.pyplot as plt\n",
    "import numpy as np\n",
    "import nil\n",
    "import pandas as pd\n",
    "import seaborn as sns\n",
    "import time\n",
    "\n",
    "\n",
    "from os import listdir\n",
    "from sklearn import preprocessing\n",
    "from sklearn.preprocessing import LabelEncoder\n",
    "from sklearn.preprocessing import StandardScaler\n",
    "from sklearn.model_selection import train_test_split\n",
    "from sklearn.metrics import classification_report, confusion_matrix\n",
    "from sklearn.ensemble import RandomForestClassifier"
   ]
  },
  {
   "cell_type": "code",
   "execution_count": null,
   "metadata": {},
   "outputs": [],
   "source": [
    "def forest_test(X, Y):\n",
    "    x_train, x_test, y_train, y_test = train_test_split(X, Y, test_size=0.30, random_state=51)\n",
    "    start = time.process_time()\n",
    "    trained_forest = RandomForestClassifier(n_estimators=700).fit(x_train, y_train)\n",
    "    print(time.process_time() - start)\n",
    "    prediction_forest = trained_forest.predict(x_test)\n",
    "    print(confusion_matrix(y_test, prediction_forest))\n",
    "    print(classification_report(y_test, prediction_forest))"
   ]
  },
  {
   "cell_type": "code",
   "execution_count": null,
   "metadata": {
    "pycharm": {
     "name": "#%%\n"
    }
   },
   "outputs": [],
   "source": [
    "def read_data_from_directory(wafer_class, machine_step):\n",
    "    \n",
    "    # Create an empty Dataframe to store all data\n",
    "    df = pd.DataFrame()\n",
    "    dir_content = listdir(\"../Wafer_Data/\" + wafer_class + \"/\" + machine_step + \"/\")\n",
    "    dir_content.sort()\n",
    "    cnt = 0\n",
    "    for file in dir_content:\n",
    "        filepath = \"../Wafer_Data/\" + wafer_class + \"/\" + machine_step + \"/\" + file\n",
    "        print(\"Reading File {0}\".format(file))\n",
    "        df = df.append(pd.read_csv(filepath))\n",
    "            \n",
    "        \n",
    "    df = df.groupby(['WaferID', \"STEP ID\"]).describe(percentiles=[])\n",
    "    wafer_class_bool = nil\n",
    "    if 'good' in wafer_class:\n",
    "        df.insert(loc=len(df.columns), column=\"CLASS\", value='Good')\n",
    "    elif 'bad' in wafer_class:\n",
    "        df.insert(loc=len(df.columns), column=\"CLASS\", value='Bad')\n",
    "    return df"
   ]
  },
  {
   "cell_type": "code",
   "execution_count": null,
   "metadata": {
    "pycharm": {
     "name": "#%%\n"
    },
    "scrolled": true
   },
   "outputs": [],
   "source": [
    "def run_z1():\n",
    "    # reading all Z1 Data\n",
    "    good_z1_df = read_data_from_directory(\"good_wafer\", \"Z1_100\")\n",
    "    bad_z1_df = read_data_from_directory(\"bad_wafer\", \"Z1_100\")\n",
    "\n",
    "    # Creating combined dataset of both good and bad\n",
    "    df = pd.DataFrame(good_z1_df.append(bad_z1_df), columns=good_z1_df.columns)\n",
    "\n",
    "    # Removing \"COUNT\" Column\n",
    "    col_index = len(df.columns)-1-6\n",
    "    while col_index >= 0:\n",
    "        print('Removing Column Number: ', col_index)\n",
    "        df.drop(df.columns[col_index], axis=1, inplace=True)\n",
    "        col_index = col_index - 6\n",
    "\n",
    "    # Removing 50% Columns\n",
    "    col_index = len(df.columns)-1-2\n",
    "    while col_index >= 0:\n",
    "        print('Removing Columns Number: ', col_index)\n",
    "        df.drop(df.columns[col_index], axis=1, inplace=True)\n",
    "        col_index = col_index - 5\n",
    "\n",
    "    # Configuring the Heatmap to make it easier to see \n",
    "    plt.figure(figsize = (30,30))\n",
    "    sns.heatmap(df.corr(), annot=True)\n",
    "    plt.show()\n",
    "\n",
    "    # Dividing into Inputs and Outputs and run Random Forest Classification\n",
    "    x_df = df.iloc[:,:-1]\n",
    "    y_df = df.iloc[:,-1]\n",
    "    x_df = x_df.fillna(0)\n",
    "    forest_test(x_df, y_df)"
   ]
  },
  {
   "cell_type": "code",
   "execution_count": null,
   "metadata": {},
   "outputs": [],
   "source": [
    "run_z1()"
   ]
  },
  {
   "cell_type": "code",
   "execution_count": null,
   "metadata": {},
   "outputs": [],
   "source": [
    " "
   ]
  }
 ],
 "metadata": {
  "kernelspec": {
   "display_name": "Python 3",
   "language": "python",
   "name": "python3"
  },
  "language_info": {
   "codemirror_mode": {
    "name": "ipython",
    "version": 3
   },
   "file_extension": ".py",
   "mimetype": "text/x-python",
   "name": "python",
   "nbconvert_exporter": "python",
   "pygments_lexer": "ipython3",
   "version": "3.8.5"
  }
 },
 "nbformat": 4,
 "nbformat_minor": 4
}
